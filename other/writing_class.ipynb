{
 "cells": [
  {
   "attachments": {},
   "cell_type": "markdown",
   "metadata": {},
   "source": [
    "Date: July 5, 2024"
   ]
  },
  {
   "attachments": {},
   "cell_type": "markdown",
   "metadata": {},
   "source": [
    "Problem: Apartment Class\n",
    "Create a class named Apartment to represent an apartment in a residential building. The class should have the following attributes and methods:\n",
    "\n",
    "Attributes:\n",
    "unit_number (string): The unique identifier for the apartment unit.\n",
    "num_bedrooms (integer): The number of bedrooms in the apartment.\n",
    "num_bathrooms (integer): The number of bathrooms in the apartment.\n",
    "rent (float): The monthly rent for the apartment.\n",
    "occupied (boolean): A flag indicating whether the apartment is currently occupied.\n",
    "tenant_name (string): The name of the tenant occupying the apartment. Should be an empty string if the apartment is not occupied.\n",
    "Methods:\n",
    "__init__(self, unit_number, num_bedrooms, num_bathrooms, rent, occupied=False, tenant_name=\"\"): The constructor method to initialize the apartment attributes.\n",
    "occupy(self, tenant_name): A method to mark the apartment as occupied and set the tenant's name. If the apartment is already occupied, print a message indicating so.\n",
    "vacate(self): A method to mark the apartment as vacant and clear the tenant's name. If the apartment is already vacant, print a message indicating so.\n",
    "update_rent(self, new_rent): A method to update the monthly rent for the apartment.\n",
    "apartment_details(self): A method to print the details of the apartment, including whether it is occupied and the tenant's name if applicable."
   ]
  },
  {
   "cell_type": "code",
   "execution_count": null,
   "metadata": {},
   "outputs": [],
   "source": [
    "class Apartment:\n",
    "    def __init__(self, unit_number: str, num_bedrooms: int, num_bathrooms: int, rent: float, occupied: bool = False, tenant_name: str = \"\"):\n",
    "        self.unit_number = unit_number\n",
    "        self.num_bedrooms = num_bedrooms\n",
    "        self.num_bathrooms = num_bathrooms\n",
    "        self.rent = rent\n",
    "        self.occupied = occupied\n",
    "        self.tenant_name = tenant_name\n",
    "\n",
    "    def occupy(self, tenant_name:str):\n",
    "        if self.tenant_name !=\"\":\n",
    "            print(\"Apartment is already occupied\")\n",
    "        else:\n",
    "            self.occupied = True\n",
    "            self.tenant_name = tenant_name\n",
    "        \n",
    "    def vacate(self):\n",
    "        if self.occupied == False:\n",
    "            print(\"Apartment is already vacant\")\n",
    "        else:\n",
    "            self.occupied = False\n",
    "            self.tenant_name = \"\"\n",
    "    \n",
    "    def update_rent(self, new_rent:float):\n",
    "        self.rent = new_rent\n",
    "\n",
    "    def apartment_details(self):\n",
    "        print(f\"Apartment {self.unit_number} details:\")\n",
    "        print(\"Number of Bedrooms: \", self.num_bedrooms)\n",
    "        print(\"Number of Bathrooms: \", self.num_bathrooms)\n",
    "        print(\"Rent: \", self.rent)\n",
    "        print(\"Occupied: \", self.occupied)\n",
    "        print(\"Tenant Name: \", self.tenant_name)"
   ]
  },
  {
   "cell_type": "code",
   "execution_count": null,
   "metadata": {},
   "outputs": [],
   "source": [
    "# Now if I wanted to define a derived class called StudioApartment, I could do so like this:\n",
    "class StudioApartment(Apartment):\n",
    "    def __init__(self, unit_number: str, rent: float, occupied: bool = False, tenant_name: str = \"\", balcony: bool):\n",
    "        super().__init__(unit_number, 0, 1, rent, occupied, tenant_name)\n",
    "        self.balcony = balcony\n",
    "\n",
    "# This is called inheritance. The StudioApartment class inherits from the Apartment class. \n",
    "# This means that the StudioApartment class has all the same methods and attributes as the Apartment class, \n",
    "# but it can also have its own methods and attributes. In this case, the StudioApartment class has an \n",
    "# additional attribute called balcony. The __init__ method of the StudioApartment class calls the __init__ method\n",
    "# of the Apartment class using super().__init__, and then sets the balcony attribute."
   ]
  },
  {
   "attachments": {},
   "cell_type": "markdown",
   "metadata": {},
   "source": [
    "**Abstract Class**\n",
    "This type of class can have abstract methods as well as defined methods, but it cannot be instantiated (meaning you cannot create a new instance of it). To use an abstract class, you must create and instantiate a subclass that extends the abstract class. "
   ]
  },
  {
   "cell_type": "code",
   "execution_count": null,
   "metadata": {},
   "outputs": [],
   "source": [
    "from abc import ABC, abstractmethod\n",
    "\n",
    "class Book(ABC):\n",
    "    def __init__(self, title:str, author:str): \n",
    "    self.title = title,\n",
    "    self.author = author\n",
    "\n",
    "    @abstractmethod\n",
    "    def display(self):\n",
    "        pass\n",
    "\n",
    "class MyBook(Book):\n",
    "    def __init__(self, title, author, price):\n",
    "        super().__init__(title, author)\n",
    "        self.price = price\n",
    "\n",
    "    def display(self):\n",
    "        print(f\"Title: {self.title}\")\n",
    "        print(f\"Author: {self.author}\")\n",
    "        print(f\"Price: {self.price}\")\n",
    "\n",
    "class Solution:\n",
    "    def __init__(self):\n",
    "        title = \"The Alchemist\"\n",
    "        author = \"Paulo Coelho\"\n",
    "        price = 248\n",
    "        my_book = MyBook(title, author, price)\n",
    "        my_book.display()\n",
    "\n",
    "if __name__ == \"__main__\":\n",
    "    Solution()"
   ]
  },
  {
   "cell_type": "code",
   "execution_count": 9,
   "metadata": {},
   "outputs": [
    {
     "name": "stdout",
     "output_type": "stream",
     "text": [
      "Apartment 1A details:\n",
      "Number of Bedrooms:  2\n",
      "Number of Bathrooms:  1\n",
      "Rent:  1500.0\n",
      "Occupied:  False\n",
      "Tenant Name:  \n",
      "Apartment 1A details:\n",
      "Number of Bedrooms:  2\n",
      "Number of Bathrooms:  1\n",
      "Rent:  1500.0\n",
      "Occupied:  True\n",
      "Tenant Name:  John Doe\n",
      "Apartment 1A details:\n",
      "Number of Bedrooms:  2\n",
      "Number of Bathrooms:  1\n",
      "Rent:  1600.0\n",
      "Occupied:  True\n",
      "Tenant Name:  John Doe\n",
      "Apartment 1A details:\n",
      "Number of Bedrooms:  2\n",
      "Number of Bathrooms:  1\n",
      "Rent:  1600.0\n",
      "Occupied:  False\n",
      "Tenant Name:  \n"
     ]
    }
   ],
   "source": [
    "# Create an apartment instance\n",
    "apartment = Apartment(\"1A\", 2, 1, 1500.00)\n",
    "\n",
    "# Print apartment details\n",
    "apartment.apartment_details()\n",
    "\n",
    "# Occupy the apartment\n",
    "apartment.occupy(\"John Doe\")\n",
    "\n",
    "# Print apartment details again\n",
    "apartment.apartment_details()\n",
    "\n",
    "# Update the rent\n",
    "apartment.update_rent(1600.00)\n",
    "\n",
    "# Print apartment details again\n",
    "apartment.apartment_details()\n",
    "\n",
    "# Vacate the apartment\n",
    "apartment.vacate()\n",
    "\n",
    "# Print apartment details again\n",
    "apartment.apartment_details()\n"
   ]
  }
 ],
 "metadata": {
  "kernelspec": {
   "display_name": "leetcode",
   "language": "python",
   "name": "python3"
  },
  "language_info": {
   "codemirror_mode": {
    "name": "ipython",
    "version": 3
   },
   "file_extension": ".py",
   "mimetype": "text/x-python",
   "name": "python",
   "nbconvert_exporter": "python",
   "pygments_lexer": "ipython3",
   "version": "3.12.2"
  },
  "orig_nbformat": 4
 },
 "nbformat": 4,
 "nbformat_minor": 2
}
