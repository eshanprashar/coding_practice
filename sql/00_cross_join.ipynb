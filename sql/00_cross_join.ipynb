{
 "cells": [
  {
   "attachments": {},
   "cell_type": "markdown",
   "metadata": {},
   "source": [
    "Problem 1280: Students and Examinations\n",
    "Link: https://leetcode.com/problems/students-and-examinations/description/?envType=study-plan-v2&envId=top-sql-50\n",
    "Useful concept(s):\n",
    "1. Cross join - to get a view where we want everything\n"
   ]
  },
  {
   "cell_type": "code",
   "execution_count": null,
   "metadata": {
    "vscode": {
     "languageId": "sql"
    }
   },
   "outputs": [],
   "source": [
    "# Query\n",
    "SELECT st.student_id, st.student_name, su.subject_name, COALESCE(e.attended_exams,0) as attended_exams\n",
    "FROM Students as st\n",
    "CROSS JOIN Subjects as su\n",
    "LEFT JOIN \n",
    "(SELECT student_id, subject_name, COUNT(*) as attended_exams\n",
    "FROM Examinations\n",
    "GROUP BY student_id, subject_name) as e\n",
    "ON st.student_id = e.student_id AND su.subject_name = e.subject_name\n",
    "ORDER BY st.student_id, su.subject_name;"
   ]
  }
 ],
 "metadata": {
  "kernelspec": {
   "display_name": "Python (wang-ml-py3.11)",
   "language": "python",
   "name": "wang-ml-py3.11"
  },
  "language_info": {
   "name": "python",
   "version": "3.11.4"
  },
  "orig_nbformat": 4
 },
 "nbformat": 4,
 "nbformat_minor": 2
}
