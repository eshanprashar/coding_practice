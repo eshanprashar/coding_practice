{
 "cells": [
  {
   "attachments": {},
   "cell_type": "markdown",
   "metadata": {},
   "source": [
    "**Problem 1045:** Customers Who Bought All Products  \n",
    "Link: https://leetcode.com/problems/customers-who-bought-all-products/description/?envType=study-plan-v2&envId=top-sql-50"
   ]
  },
  {
   "cell_type": "code",
   "execution_count": null,
   "metadata": {
    "vscode": {
     "languageId": "sql"
    }
   },
   "outputs": [],
   "source": [
    "-- Using subquery\n",
    "SELECT base.customer_id\n",
    "FROM \n",
    "(\n",
    "    SELECT customer_id, COUNT(DISTINCT product_key) AS products_bought\n",
    "    FROM Customer\n",
    "    GROUP BY customer_id\n",
    ") base\n",
    "WHERE base.products_bought = (SELECT COUNT(product_key) FROM Product);\n",
    "\n",
    "-- Using CTE\n",
    "WITH base AS\n",
    "(\n",
    "    SELECT customer_id, COUNT(DISTINCT product_key) AS products_bought\n",
    "    FROM Customer\n",
    "    GROUP BY customer_id\n",
    "),\n",
    "total_products AS\n",
    "(\n",
    "    SELECT COUNT(product_key) AS total_products FROM Product\n",
    ")\n",
    "SELECT base.customer_id\n",
    "FROM base, total_products\n",
    "WHERE base.products_bought = total_products.total_products;\n"
   ]
  },
  {
   "attachments": {},
   "cell_type": "markdown",
   "metadata": {},
   "source": [
    "**Problem 619:** Biggest Single Number  \n",
    "Link: https://leetcode.com/problems/biggest-single-number/description/?envType=study-plan-v2&envId=top-sql-50"
   ]
  },
  {
   "cell_type": "code",
   "execution_count": null,
   "metadata": {
    "vscode": {
     "languageId": "sql"
    }
   },
   "outputs": [],
   "source": [
    "-- Intuition is to apply the condition to have count = 1, then order by and limit\n",
    "-- Simple query\n",
    "SELECT IFNULL(\n",
    "    (\n",
    "        SELECT num\n",
    "        FROM MyNumbers\n",
    "        GROUP BY num\n",
    "        HAVING COUNT(num) = 1\n",
    "        ORDER BY num DESC\n",
    "        LIMIT 1\n",
    "    ), NULL\n",
    ") AS num\n",
    "\n",
    "-- Now using CTE\n",
    "WITH NumberCounts AS (\n",
    "    SELECT num\n",
    "    FROM MyNumbers\n",
    "    GROUP BY num\n",
    "    HAVING COUNT(num) = 1\n",
    ")\n",
    "SELECT IFNULL(\n",
    "    (\n",
    "        SELECT num\n",
    "        FROM NumberCounts\n",
    "        ORDER BY num DESC\n",
    "        LIMIT 1\n",
    "    ), NULL\n",
    ") AS num"
   ]
  },
  {
   "attachments": {},
   "cell_type": "markdown",
   "metadata": {},
   "source": [
    "**Problem 550:** Game Play Analysis IV  \n",
    "Link: https://leetcode.com/problems/game-play-analysis-iv/description/?envType=study-plan-v2&envId=top-sql-50"
   ]
  },
  {
   "cell_type": "code",
   "execution_count": null,
   "metadata": {
    "vscode": {
     "languageId": "sql"
    }
   },
   "outputs": [],
   "source": [
    "-- Intuition is that we first find the minimum date for each player and somehow \n",
    "-- check that the next date, for the given player is present in the database\n",
    "SELECT ROUND(COUNT(base.player_id) / (SELECT COUNT(DISTINCT a1.player_id) FROM Activity AS a1),2) as fraction\n",
    "FROM \n",
    "(\n",
    "    SELECT player_id, MIN(event_date) as first_logged\n",
    "    FROM Activity\n",
    "    GROUP BY player_id\n",
    ") base\n",
    "-- check next date is present for the player\n",
    "WHERE EXISTS (\n",
    "    SELECT 1\n",
    "    FROM Activity\n",
    "    WHERE player_id = base.player_id\n",
    "    AND event_date = DATE_ADD(base.first_logged, INTERVAL 1 DAY)\n",
    ")\n",
    "\n",
    "-- Approach using JOIN (this is also not optimal)\n",
    "-- The broad step by step approach of finding the minimum date AND THEN the next day will still be the same\n",
    "SELECT \n",
    "    ROUND(\n",
    "        (SELECT COUNT(DISTINCT a2.player_id)\n",
    "         FROM Activity a2\n",
    "         JOIN Activity a3 ON a2.player_id = a3.player_id\n",
    "         WHERE DATE_ADD(a2.event_date, INTERVAL 1 DAY) = a3.event_date\n",
    "         AND a2.event_date = ( -- Find the minimum date for the player - this is exactly one value \n",
    "             SELECT MIN(event_date) \n",
    "             FROM Activity \n",
    "             WHERE player_id = a2.player_id\n",
    "         )\n",
    "        ) / \n",
    "        (SELECT COUNT(DISTINCT a1.player_id) FROM Activity AS a1),\n",
    "        2\n",
    "    ) AS fraction;\n",
    "\n",
    "\n",
    "-- Using CTEs \n",
    "-- Intuition is we first find the FirstLogin and then find if NextDayLogin exists for the player\n",
    "WITH FirstLogin AS (\n",
    "    SELECT player_id, MIN(event_date) as first_logged\n",
    "    FROM Activity\n",
    "    GROUP BY player_id\n",
    "),\n",
    "NextDayLogin AS (\n",
    "    SELECT fl.player_id \n",
    "    FROM FirstLogin fl\n",
    "    JOIN Activity a ON fl.player_id = a.player_id\n",
    "    WHERE a.event_date = DATE_ADD(fl.first_logged, INTERVAL 1 DAY)\n",
    ")\n",
    "SELECT ROUND(COUNT(DISTINCT ndl.player_id)/COUNT(DISTINCT fl.player_id),2) as fraction\n",
    "FROM FirstLogin fl\n",
    "LEFT JOIN NextDayLogin ndl ON fl.player_id = ndl.player_id;"
   ]
  },
  {
   "attachments": {},
   "cell_type": "markdown",
   "metadata": {},
   "source": [
    "**Problem 1174:** Immediate Food Delivery II  \n",
    "Link: https://leetcode.com/problems/immediate-food-delivery-ii/description/?envType=study-plan-v2&envId=top-sql-50"
   ]
  },
  {
   "cell_type": "code",
   "execution_count": null,
   "metadata": {
    "vscode": {
     "languageId": "sql"
    }
   },
   "outputs": [],
   "source": [
    "-- My solution: using window function\n",
    "\n",
    "WITH first_orders AS (\n",
    "    SELECT\n",
    "        customer_id,\n",
    "        order_date AS first_order_date,\n",
    "        customer_pref_delivery_date\n",
    "        ROW_NUMBER() OVER (PARTITION BY customer_id ORDER BY order_date) AS rn \n",
    "        -- a partition is created based on customer id, order dates are ordered in ascending order and then row number is assigned to each row\n",
    "        -- rn = 1 means the first order of each customer is selected \n",
    "        -- this is a useful paradigm because it allows us to get the nth order of each customer\n",
    "    FROM\n",
    "        Delivery\n",
    ")\n",
    "SELECT\n",
    "    ROUND(AVG(CASE WHEN first_order_date = customer_pref_delivery_date THEN 1 ELSE 0 END) * 100, 2) AS immediate_percentage\n",
    "FROM\n",
    "    first_orders\n",
    "WHERE\n",
    "    rn = 1;\n",
    "\n",
    "-- My solution: using sub-query\n",
    "SELECT \n",
    "    ROUND(SUM(d2.first_order_date = d2.pref_date)/COUNT(d2.first_order_date) * 100, 2) AS immediate_percentage\n",
    "    FROM\n",
    "    (\n",
    "        SELECT \n",
    "            customer_id, \n",
    "            MIN(d1.order_date) AS first_order_date,\n",
    "            MIN(d1.customer_pref_delivery_date) AS pref_date\n",
    "        FROM \n",
    "            Delivery AS d1\n",
    "        GROUP BY \n",
    "            customer_id\n",
    "    ) AS d2;\n",
    "\n",
    "-- Most voted solution\n",
    "SELECT \n",
    "    ROUND(AVG(order_date = customer_pref_delivery_date) * 100, 2) AS immediate_percentage\n",
    "FROM \n",
    "    Delivery\n",
    "WHERE \n",
    "    (customer_id, order_date) IN (\n",
    "        SELECT \n",
    "            customer_id, \n",
    "            MIN(order_date) \n",
    "        FROM \n",
    "            Delivery \n",
    "        GROUP BY \n",
    "            customer_id\n",
    "    );"
   ]
  },
  {
   "attachments": {},
   "cell_type": "markdown",
   "metadata": {},
   "source": [
    "**Problem 1193:** Monthly Transactions I  \n",
    "Link: https://leetcode.com/problems/monthly-transactions-i/description/?envType=study-plan-v2&envId=top-sql-50"
   ]
  },
  {
   "cell_type": "code",
   "execution_count": null,
   "metadata": {
    "vscode": {
     "languageId": "sql"
    }
   },
   "outputs": [],
   "source": [
    "-- Using CASE Statement to navigate this problem\n",
    "-- Works without CASE too because approved is binary so SUM((state='approved')*amount) will work too; however this is more error prone\n",
    "SELECT DATE_FORMAT(trans_date, '%Y-%m') AS month,\n",
    "country,\n",
    "COUNT(*) AS trans_count,\n",
    "SUM(amount) AS trans_total_amount,\n",
    "SUM(CASE WHEN state = 'approved' THEN 1 ELSE 0 END) AS approved_count,\n",
    "SUM(CASE WHEN state = 'approved' THEN amount ELSE 0 END) AS approved_total_amount,\n",
    "FROM \n",
    "Transactions\n",
    "GROUP BY month, country"
   ]
  },
  {
   "attachments": {},
   "cell_type": "markdown",
   "metadata": {},
   "source": [
    "**Problem 1934:** Confirmation Rate  \n",
    "Link: https://leetcode.com/problems/confirmation-rate/?envType=study-plan-v2&envId=top-sql-50"
   ]
  },
  {
   "cell_type": "code",
   "execution_count": null,
   "metadata": {
    "vscode": {
     "languageId": "sql"
    }
   },
   "outputs": [],
   "source": [
    "-- First method using simple LEFT JOIN\n",
    "SELECT s.user_id,\n",
    "ROUND(\n",
    "    IFNULL(SUM(c.action='confirmed')/count(c.user_id),0),2) as confirmation_rate\n",
    "FROM signups AS s\n",
    "LEFT JOIN confirmations AS c\n",
    "ON s.user_id = c.user_id\n",
    "GROUP BY c.user_id;\n",
    "\n",
    "-- Second method using window function\n",
    "-- A clear reason for why this is better is because this can handle addition of metrics in a much better way (in the CTE)\n",
    "WITH ConfirmationCounts AS (\n",
    "    SELECT user_id,\n",
    "    SUM(CASE WHEN action = 'confirmed' THEN 1 ELSE 0 END) OVER (PARTITION BY user_id) AS confirmed_count,\n",
    "    COUNT(action) OVER (PARTITION BY user_id) AS total_count\n",
    "    FROM confirmations\n",
    ")\n",
    "SELECT s.user_id,\n",
    "ROUND(\n",
    "    IFNULL(confirmed_count/total_count,0),2) as confirmation_rate\n",
    "FROM signups AS s\n",
    "LEFT JOIN ConfirmationCounts cc ON s.user_id = cc.user_id\n",
    "GROUP BY s.user_id, cc.confirmed_count, cc.total_count;"
   ]
  },
  {
   "attachments": {},
   "cell_type": "markdown",
   "metadata": {},
   "source": [
    "**Problem 570:** Managers with at least 5 Direct Reports  \n",
    "Link: https://leetcode.com/problems/managers-with-at-least-5-direct-reports/description/?envType=study-plan-v2&envId=top-sql-50"
   ]
  },
  {
   "cell_type": "code",
   "execution_count": null,
   "metadata": {
    "vscode": {
     "languageId": "sql"
    }
   },
   "outputs": [],
   "source": [
    "-- Method 1 uses JOIN\n",
    "SELECT e1.name FROM Employee AS e1\n",
    "JOIN Employee AS e2\n",
    "ON e1.id = e2.managerId\n",
    "GROUP BY e2.managerId\n",
    "HAVING COUNT(e1.id) > 4;\n",
    "\n",
    "-- Method 2 uses subquery\n",
    "SELECT name FROM Employee e1\n",
    "WHERE e1.id IN (\n",
    "    SELECT managerId FROM Employee\n",
    "    GROUP BY managerId\n",
    "    HAVING COUNT(id) > 4\n",
    ");"
   ]
  },
  {
   "attachments": {},
   "cell_type": "markdown",
   "metadata": {},
   "source": [
    "**Problem 1280:** Students and Examinations  \n",
    "Link: https://leetcode.com/problems/students-and-examinations/description/?envType=study-plan-v2&envId=top-sql-50  \n",
    "Useful concept(s):  \n",
    "- Cross join - to get a view where we want everything"
   ]
  },
  {
   "cell_type": "code",
   "execution_count": null,
   "metadata": {
    "vscode": {
     "languageId": "sql"
    }
   },
   "outputs": [],
   "source": [
    "# Query\n",
    "SELECT st.student_id, st.student_name, su.subject_name, COALESCE(e.attended_exams,0) as attended_exams\n",
    "FROM Students as st\n",
    "CROSS JOIN Subjects as su\n",
    "LEFT JOIN \n",
    "(SELECT student_id, subject_name, COUNT(*) as attended_exams\n",
    "FROM Examinations\n",
    "GROUP BY student_id, subject_name) as e\n",
    "ON st.student_id = e.student_id AND su.subject_name = e.subject_name\n",
    "ORDER BY st.student_id, su.subject_name;"
   ]
  }
 ],
 "metadata": {
  "kernelspec": {
   "display_name": "Python (wang-ml-py3.11)",
   "language": "python",
   "name": "wang-ml-py3.11"
  },
  "language_info": {
   "name": "python",
   "version": "3.11.4"
  },
  "orig_nbformat": 4
 },
 "nbformat": 4,
 "nbformat_minor": 2
}
